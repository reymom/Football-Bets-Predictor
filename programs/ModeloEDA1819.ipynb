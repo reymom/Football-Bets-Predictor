{
 "cells": [
  {
   "cell_type": "code",
   "execution_count": 1,
   "metadata": {},
   "outputs": [],
   "source": [
    "import pandas as pd\n",
    "import numpy as np\n",
    "import matplotlib.pyplot as plt"
   ]
  },
  {
   "cell_type": "code",
   "execution_count": 2,
   "metadata": {},
   "outputs": [],
   "source": [
    "datos_liga = pd.read_csv('Datos/2018-2019.1eraDivision(FT,HTresults;matchstats;match,totalgoals,AHodds).csv')"
   ]
  },
  {
   "cell_type": "code",
   "execution_count": 3,
   "metadata": {},
   "outputs": [],
   "source": [
    "my_features = ['Date', 'HomeTeam', 'AwayTeam', 'FTHG', 'FTAG', 'FTR', 'HC', 'AC', \n",
    "               'B365H', 'B365D', 'B365A']\n",
    "datos_liga = datos_liga[my_features]"
   ]
  },
  {
   "cell_type": "code",
   "execution_count": null,
   "metadata": {},
   "outputs": [],
   "source": [
    "datos_liga.head(10)"
   ]
  },
  {
   "cell_type": "code",
   "execution_count": null,
   "metadata": {},
   "outputs": [],
   "source": [
    "datos_liga.info()"
   ]
  },
  {
   "cell_type": "code",
   "execution_count": null,
   "metadata": {},
   "outputs": [],
   "source": [
    "datos_liga.describe()"
   ]
  },
  {
   "cell_type": "markdown",
   "metadata": {},
   "source": [
    "# Estadisticas totales"
   ]
  },
  {
   "cell_type": "code",
   "execution_count": 4,
   "metadata": {},
   "outputs": [
    {
     "name": "stdout",
     "output_type": "stream",
     "text": [
      "Media Goles Home Team = 1.4526 +- 1.1450\n",
      "Media Goles Away Team = 1.1342 +- 1.1334\n"
     ]
    },
    {
     "data": {
      "image/png": "[encoded data removed]",
      "text/plain": [
       "<Figure size 432x288 with 2 Axes>"
      ]
     },
     "metadata": {
      "needs_background": "light"
     },
     "output_type": "display_data"
    }
   ],
   "source": [
    "fig, ax = plt.subplots(1,2)\n",
    "\n",
    "ax[0].hist(datos_liga['FTHG'], color='red', bins=7, density=True, edgecolor='black', linewidth=1.2)\n",
    "ax[0].set_xlabel('Home goals')\n",
    "ax[0].set_xticks([0,1,2,3,4,5,6,7])\n",
    "ax[0].set_xticklabels(['0', '1', '2', '3', '4', '5', '6', '7'])\n",
    "\n",
    "ax[1].hist(datos_liga['FTAG'], color='blue', bins=7, density=True, edgecolor='black', linewidth=1.2)\n",
    "ax[1].set_xlabel('Away goals')\n",
    "ax[1].set_xticks([0,1,2,3,4,5,6,7])\n",
    "ax[1].set_xticklabels(['0', '1', '2', '3', '4', '5', '6', '7'])\n",
    "\n",
    "fig.tight_layout()\n",
    "\n",
    "print('Media Goles Home Team = {:.4f} +- {:.4f}'.format(np.mean(datos_liga['FTHG']), np.std(datos_liga['FTHG'])))\n",
    "print('Media Goles Away Team = {:.4f} +- {:.4f}'.format(np.mean(datos_liga['FTAG']), np.std(datos_liga['FTAG'])))"
   ]
  },
  {
   "cell_type": "code",
   "execution_count": 5,
   "metadata": {},
   "outputs": [
    {
     "data": {
      "text/plain": [
       "H    168\n",
       "D    110\n",
       "A    102\n",
       "Name: FTR, dtype: int64"
      ]
     },
     "execution_count": 5,
     "metadata": {},
     "output_type": "execute_result"
    }
   ],
   "source": [
    "datos_liga['FTR'].value_counts()"
   ]
  },
  {
   "cell_type": "code",
   "execution_count": 6,
   "metadata": {},
   "outputs": [
    {
     "name": "stdout",
     "output_type": "stream",
     "text": [
      "Media Corners Home Team = 5.5737 +- 2.8391\n",
      "Media Corners Away Team = 4.0211 +- 2.3496\n"
     ]
    },
    {
     "data": {
      "image/png": "[encoded data removed]",
      "text/plain": [
       "<Figure size 432x288 with 2 Axes>"
      ]
     },
     "metadata": {
      "needs_background": "light"
     },
     "output_type": "display_data"
    }
   ],
   "source": [
    "fig, ax = plt.subplots(1,2)\n",
    "\n",
    "ax[0].hist(datos_liga['HC'], color='red', density=True, edgecolor='black', linewidth=1.2)\n",
    "ax[0].set_xlabel('Home team corners')\n",
    "# ax[0].set_xticks([0,1,2,3,4,5,6,7])\n",
    "# ax[0].set_xticklabels(['0', '1', '2', '3', '4', '5', '6', '7'])\n",
    "\n",
    "ax[1].hist(datos_liga['AC'], color='blue', density=True, edgecolor='black', linewidth=1.2)\n",
    "ax[1].set_xlabel('Away team corners')\n",
    "# ax[1].set_xticks([0,1,2,3,4,5,6,7])\n",
    "# ax[1].set_xticklabels(['0', '1', '2', '3', '4', '5', '6', '7'])\n",
    "\n",
    "fig.tight_layout()\n",
    "\n",
    "print('Media Corners Home Team = {:.4f} +- {:.4f}'.format(np.mean(datos_liga['HC']), np.std(datos_liga['HC'])))\n",
    "print('Media Corners Away Team = {:.4f} +- {:.4f}'.format(np.mean(datos_liga['AC']), np.std(datos_liga['AC'])))"
   ]
  },
  {
   "cell_type": "markdown",
   "metadata": {},
   "source": [
    "## Estadisticas por jornada (cada 10 partidos)"
   ]
  },
  {
   "cell_type": "code",
   "execution_count": null,
   "metadata": {},
   "outputs": [],
   "source": [
    "indexes = [np.array(list(int(i/10) for i in range(380))),\n",
    "           np.array(list(i for i in range(380)))]"
   ]
  },
  {
   "cell_type": "code",
   "execution_count": null,
   "metadata": {},
   "outputs": [],
   "source": [
    "datos_liga_multi = datos_liga.copy()\n",
    "datos_liga_multi.index = indexes"
   ]
  },
  {
   "cell_type": "code",
   "execution_count": null,
   "metadata": {},
   "outputs": [],
   "source": [
    "datos_liga_multi.index.names = ['Jornada', 'Partido']"
   ]
  },
  {
   "cell_type": "code",
   "execution_count": null,
   "metadata": {},
   "outputs": [],
   "source": [
    "datos_liga_multi.head(3)"
   ]
  },
  {
   "cell_type": "code",
   "execution_count": null,
   "metadata": {},
   "outputs": [],
   "source": [
    "chunck = 0\n",
    "datos_liga_multi.loc[(slice('0'), slice(None)), :]"
   ]
  },
  {
   "cell_type": "markdown",
   "metadata": {},
   "source": [
    "# Creo feature de predicho bien o predicho mal, y un peso"
   ]
  },
  {
   "cell_type": "code",
   "execution_count": null,
   "metadata": {},
   "outputs": [],
   "source": [
    "h = datos_liga['FTHG'][0]\n",
    "a = datos_liga['FTAG'][0]\n",
    "bh = datos_liga['B365H'][0]\n",
    "bd = datos_liga['B365D'][0]\n",
    "ba = datos_liga['B365A'][0]\n",
    "print(h, a, bh, bd, ba)"
   ]
  },
  {
   "cell_type": "code",
   "execution_count": null,
   "metadata": {},
   "outputs": [],
   "source": [
    "dif = h - a\n",
    "masprob = np.argsort([bh, bd, ba])\n",
    "print(dif, masprob)"
   ]
  },
  {
   "cell_type": "code",
   "execution_count": null,
   "metadata": {},
   "outputs": [],
   "source": [
    "new = datos_liga[['FTHG', 'FTAG', 'B365H', 'B365D', 'B365A']]\n",
    "new_feature = []\n",
    "for i in range(len(new)):\n",
    "    h = new['FTHG'][i]\n",
    "    a = new['FTAG'][i]\n",
    "    bh = new['B365H'][i]\n",
    "    bd = new['B365D'][i]\n",
    "    ba = new['B365A'][i]\n",
    "    dif = h - a\n",
    "    masprob = np.argsort([bh, bd, ba])\n",
    "    difbet = bh/ba\n",
    "    if dif<0:\n",
    "        if masprob[0]!=2:\n",
    "            new_feature.append(0)\n",
    "        elif masprob[0]==2:\n",
    "            new_feature.append(1)\n",
    "    elif dif>0:\n",
    "        if masprob[0]!=0:\n",
    "            new_feature.append(1)\n",
    "        elif masprob[0]==0:\n",
    "            new_feature.append(0)\n",
    "    else:\n",
    "        new_feature.append(0)"
   ]
  },
  {
   "cell_type": "code",
   "execution_count": null,
   "metadata": {},
   "outputs": [],
   "source": [
    "new_feature = np.array(new_feature)"
   ]
  },
  {
   "cell_type": "code",
   "execution_count": null,
   "metadata": {
    "scrolled": true
   },
   "outputs": [],
   "source": [
    "len(new_feature[new_feature==0]), len(new_feature[new_feature==1])"
   ]
  },
  {
   "cell_type": "code",
   "execution_count": null,
   "metadata": {},
   "outputs": [],
   "source": []
  },
  {
   "cell_type": "code",
   "execution_count": null,
   "metadata": {},
   "outputs": [],
   "source": []
  },
  {
   "cell_type": "code",
   "execution_count": null,
   "metadata": {},
   "outputs": [],
   "source": []
  },
  {
   "cell_type": "code",
   "execution_count": null,
   "metadata": {},
   "outputs": [],
   "source": []
  },
  {
   "cell_type": "markdown",
   "metadata": {},
   "source": [
    "# Betting strategies"
   ]
  },
  {
   "cell_type": "markdown",
   "metadata": {},
   "source": [
    "## Bet for the most probable always\n",
    "\n",
    "my_features = ['Date', 'HomeTeam', 'AwayTeam', 'FTHG', 'FTAG', 'FTR', 'HC', 'AC', \n",
    "               'B365H', 'B365D', 'B365A']"
   ]
  },
  {
   "cell_type": "code",
   "execution_count": 7,
   "metadata": {},
   "outputs": [
    {
     "name": "stdout",
     "output_type": "stream",
     "text": [
      "Misma probabilidad!\n",
      "Misma probabilidad!\n",
      "Misma probabilidad!\n",
      "Misma probabilidad!\n",
      " \n",
      "Accuracy = 0.48157894736842105\n",
      "Profits = 326.33000000000015\n",
      "Difference =  -53.669999999999845\n"
     ]
    }
   ],
   "source": [
    "accuracy = 0\n",
    "profits = 0\n",
    "for i in range(len(datos_liga)):\n",
    "    if (datos_liga['FTR'][i] == 'H') and (datos_liga['B365H'][i] < datos_liga['B365A'][i]):\n",
    "        accuracy += 1\n",
    "        profits += (datos_liga['B365H'][i])\n",
    "        \n",
    "    if (datos_liga['FTR'][i] == 'A') and (datos_liga['B365A'][i] < datos_liga['B365H'][i]):\n",
    "        accuracy += 1\n",
    "        profits += (datos_liga['B365A'][i])\n",
    "        \n",
    "    if datos_liga['B365A'][i] == datos_liga['B365H'][i]:\n",
    "        print('Misma probabilidad!')\n",
    "    \n",
    "print(' ')\n",
    "print('Accuracy = {}'.format(accuracy/len(datos_liga)))\n",
    "print('Profits = {}'.format(profits))\n",
    "print('Win (+ or lost -) = ', profits-len(datos_liga))"
   ]
  },
  {
   "cell_type": "markdown",
   "metadata": {},
   "source": [
    "## Model: Keras built on top of TensorFlow\n",
    "### y_true (the labels):\n",
    " * Win Home\n",
    " * Win Away\n",
    " * Draw\n",
    " * No bet"
   ]
  },
  {
   "cell_type": "code",
   "execution_count": 8,
   "metadata": {},
   "outputs": [],
   "source": [
    "def odds_loss(y_true, y_pred):\n",
    "    \"\"\"\n",
    "    The function implements the custom loss function\n",
    "    \n",
    "    -Inputs\n",
    "    true : a vector of dimension batch_size, 7.\n",
    "           A label encoded version of the output and the backp1_a and backp1_b\n",
    "    pred : a vector of probabilities of dimension batch_size , 5.\n",
    "    \n",
    "    -Returns \n",
    "    the loss value\n",
    "    \"\"\"\n",
    "    \n",
    "    win_home = y_true[:, 0:1]\n",
    "    win_away = y_true[:, 1:2]\n",
    "    draw = y_true[:, 2:3]\n",
    "    no_bet = y_true[:, 3:4]\n",
    "    \n",
    "    odds_a = y_true[:, 4:5]\n",
    "    odds_b = y_true[:, 5:6]\n",
    "    \n",
    "    gain_loss_vector = K.concatenate([win_home * (odds_a - 1) + (1 - win_home) * -1,\n",
    "                                      win_away * (odds_b - 1) + (1 - win_away) * -1,\n",
    "                                      draw * (1/(1 - 1/odds_a - 1/odds_b) - 1) + (1 - draw) * -1,\n",
    "                                      K.zeros_like(odds_a)], axis=1)\n",
    "\n",
    "    return -1 * K.mean(K.sum(gain_loss_vector * y_pred, axis=1))"
   ]
  },
  {
   "cell_type": "code",
   "execution_count": 9,
   "metadata": {},
   "outputs": [],
   "source": [
    "data = pd.read_csv('Datos/2018-2019.1eraDivision(FT,HTresults;matchstats;match,totalgoals,AHodds).csv')\n",
    "my_features = ['HomeTeam', 'AwayTeam', 'B365H', 'B365A', 'FTR']\n",
    "data = data[my_features]"
   ]
  },
  {
   "cell_type": "code",
   "execution_count": 35,
   "metadata": {},
   "outputs": [
    {
     "data": {
      "text/html": [
       "<div>\n",
       "<style scoped>\n",
       "    .dataframe tbody tr th:only-of-type {\n",
       "        vertical-align: middle;\n",
       "    }\n",
       "\n",
       "    .dataframe tbody tr th {\n",
       "        vertical-align: top;\n",
       "    }\n",
       "\n",
       "    .dataframe thead th {\n",
       "        text-align: right;\n",
       "    }\n",
       "</style>\n",
       "<table border=\"1\" class=\"dataframe\">\n",
       "  <thead>\n",
       "    <tr style=\"text-align: right;\">\n",
       "      <th></th>\n",
       "      <th>HomeTeam</th>\n",
       "      <th>AwayTeam</th>\n",
       "      <th>B365H</th>\n",
       "      <th>B365A</th>\n",
       "      <th>FTR</th>\n",
       "    </tr>\n",
       "  </thead>\n",
       "  <tbody>\n",
       "    <tr>\n",
       "      <th>0</th>\n",
       "      <td>Betis</td>\n",
       "      <td>Levante</td>\n",
       "      <td>1.66</td>\n",
       "      <td>5.0</td>\n",
       "      <td>A</td>\n",
       "    </tr>\n",
       "    <tr>\n",
       "      <th>1</th>\n",
       "      <td>Girona</td>\n",
       "      <td>Valladolid</td>\n",
       "      <td>1.75</td>\n",
       "      <td>5.0</td>\n",
       "      <td>D</td>\n",
       "    </tr>\n",
       "    <tr>\n",
       "      <th>2</th>\n",
       "      <td>Barcelona</td>\n",
       "      <td>Alaves</td>\n",
       "      <td>1.11</td>\n",
       "      <td>21.0</td>\n",
       "      <td>H</td>\n",
       "    </tr>\n",
       "    <tr>\n",
       "      <th>3</th>\n",
       "      <td>Celta</td>\n",
       "      <td>Espanol</td>\n",
       "      <td>1.85</td>\n",
       "      <td>4.5</td>\n",
       "      <td>D</td>\n",
       "    </tr>\n",
       "    <tr>\n",
       "      <th>4</th>\n",
       "      <td>Villarreal</td>\n",
       "      <td>Sociedad</td>\n",
       "      <td>2.04</td>\n",
       "      <td>3.8</td>\n",
       "      <td>A</td>\n",
       "    </tr>\n",
       "  </tbody>\n",
       "</table>\n",
       "</div>"
      ],
      "text/plain": [
       "     HomeTeam    AwayTeam  B365H  B365A FTR\n",
       "0       Betis     Levante   1.66    5.0   A\n",
       "1      Girona  Valladolid   1.75    5.0   D\n",
       "2   Barcelona      Alaves   1.11   21.0   H\n",
       "3       Celta     Espanol   1.85    4.5   D\n",
       "4  Villarreal    Sociedad   2.04    3.8   A"
      ]
     },
     "execution_count": 35,
     "metadata": {},
     "output_type": "execute_result"
    }
   ],
   "source": [
    "data.head()"
   ]
  },
  {
   "cell_type": "code",
   "execution_count": 28,
   "metadata": {},
   "outputs": [
    {
     "data": {
      "text/plain": [
       "array(['Betis', 'Girona', 'Barcelona', 'Celta', 'Villarreal', 'Eibar',\n",
       "       'Real Madrid', 'Vallecano', 'Ath Bilbao', 'Valencia', 'Getafe',\n",
       "       'Leganes', 'Alaves', 'Ath Madrid', 'Valladolid', 'Espanol',\n",
       "       'Sevilla', 'Levante', 'Huesca', 'Sociedad'], dtype=object)"
      ]
     },
     "execution_count": 28,
     "metadata": {},
     "output_type": "execute_result"
    }
   ],
   "source": [
    "data['HomeTeam'].unique()"
   ]
  },
  {
   "cell_type": "markdown",
   "metadata": {},
   "source": [
    "### New features, fifa scores by months"
   ]
  },
  {
   "cell_type": "code",
   "execution_count": 24,
   "metadata": {},
   "outputs": [],
   "source": [
    "team_scores = pd.read_csv('Datos/Features_FIFA_score/fifaindex_1819.csv')"
   ]
  },
  {
   "cell_type": "code",
   "execution_count": 29,
   "metadata": {},
   "outputs": [
    {
     "data": {
      "text/plain": [
       "array(['FC Barcelona', 'Real Madrid', 'Atlético Madrid', 'Valencia CF',\n",
       "       'Villarreal CF', 'Real Betis', 'Athletic Club', 'Sevilla FC',\n",
       "       'SD Eibar', 'RC Celta', 'Real Sociedad', 'Getafe CF',\n",
       "       'RCD Espanyol', 'Girona FC', 'Levante UD', 'D. Alavés',\n",
       "       'CD Leganés', 'SD Huesca', 'Rayo Vallecano', 'R. Valladolid CF'],\n",
       "      dtype=object)"
      ]
     },
     "execution_count": 29,
     "metadata": {},
     "output_type": "execute_result"
    }
   ],
   "source": [
    "team_scores['Team'].unique()"
   ]
  },
  {
   "cell_type": "code",
   "execution_count": 34,
   "metadata": {},
   "outputs": [
    {
     "data": {
      "text/plain": [
       "Index(['Team', 'Date', 'ATT', 'MID', 'DEF', 'OVR'], dtype='object')"
      ]
     },
     "execution_count": 34,
     "metadata": {},
     "output_type": "execute_result"
    }
   ],
   "source": [
    "team_scores.columns"
   ]
  },
  {
   "cell_type": "code",
   "execution_count": null,
   "metadata": {},
   "outputs": [],
   "source": []
  },
  {
   "cell_type": "code",
   "execution_count": null,
   "metadata": {},
   "outputs": [],
   "source": []
  },
  {
   "cell_type": "code",
   "execution_count": null,
   "metadata": {},
   "outputs": [],
   "source": []
  },
  {
   "cell_type": "code",
   "execution_count": null,
   "metadata": {},
   "outputs": [],
   "source": []
  },
  {
   "cell_type": "code",
   "execution_count": null,
   "metadata": {},
   "outputs": [],
   "source": []
  },
  {
   "cell_type": "code",
   "execution_count": 10,
   "metadata": {},
   "outputs": [],
   "source": [
    "def get_data():\n",
    "    data = pd.read_csv('Datos/2018-2019.1eraDivision(FT,HTresults;matchstats;match,totalgoals,AHodds).csv')\n",
    "    my_features = ['HomeTeam', 'AwayTeam', 'B365H', 'B365A', 'FTR']\n",
    "    data = data[my_features]\n",
    "\n",
    "    X = data.values[:, 2:-1]\n",
    "    y = data.values[:, -1]\n",
    "    y_full = np.zeros((X.shape[0], 5))\n",
    "    for i, y_i in enumerate(y):\n",
    "        if y_i == 'H':\n",
    "            y_full[i, 0] = 1.0\n",
    "        if y_i == 'A':\n",
    "            y_full[i, 1] = 1.0\n",
    "        if y_i == 'D':\n",
    "            y_full[i, 2] = 1.0\n",
    "\n",
    "        y_full[i, 3] = X[i, -2] # ODDS OF HOME TEAM\n",
    "        y_full[i, 4] = X[i, -1] # ODDS OF AWAY TEAM\n",
    "    return X, y_full, y"
   ]
  },
  {
   "cell_type": "code",
   "execution_count": 11,
   "metadata": {},
   "outputs": [],
   "source": [
    "from sklearn.model_selection import train_test_split\n",
    "\n",
    "X, y, outcome = get_data()\n",
    "train_x, test_x, train_y, test_y, = train_test_split(X,  y) # SPLIT THE DATA IN TRAIN AND TEST DATASET."
   ]
  },
  {
   "cell_type": "code",
   "execution_count": 12,
   "metadata": {},
   "outputs": [
    {
     "name": "stderr",
     "output_type": "stream",
     "text": [
      "Using TensorFlow backend.\n"
     ]
    },
    {
     "name": "stdout",
     "output_type": "stream",
     "text": [
      "WARNING:tensorflow:From /home/raymun/.local/share/virtualenvs/Documentos-R9YD94Vv/lib/python3.5/site-packages/tensorflow/python/ops/resource_variable_ops.py:435: colocate_with (from tensorflow.python.framework.ops) is deprecated and will be removed in a future version.\n",
      "Instructions for updating:\n",
      "Colocations handled automatically by placer.\n",
      "WARNING:tensorflow:From /home/raymun/.local/share/virtualenvs/Documentos-R9YD94Vv/lib/python3.5/site-packages/tensorflow/python/ops/math_ops.py:3066: to_int32 (from tensorflow.python.ops.math_ops) is deprecated and will be removed in a future version.\n",
      "Instructions for updating:\n",
      "Use tf.cast instead.\n",
      "Train on 285 samples, validate on 95 samples\n",
      "Epoch 1/20\n",
      "285/285 [==============================] - 4s 15ms/step - loss: -1.0516 - val_loss: -1.7843\n",
      "Epoch 2/20\n",
      "285/285 [==============================] - 3s 9ms/step - loss: -1.5032 - val_loss: -1.7357\n",
      "Epoch 3/20\n",
      "285/285 [==============================] - 2s 9ms/step - loss: -1.3837 - val_loss: -1.7357\n",
      "Epoch 4/20\n",
      "285/285 [==============================] - 2s 9ms/step - loss: -1.6774 - val_loss: -1.7357\n",
      "Epoch 5/20\n",
      "285/285 [==============================] - 2s 9ms/step - loss: -1.6785 - val_loss: -1.7357\n",
      "Epoch 6/20\n",
      "285/285 [==============================] - 3s 9ms/step - loss: -1.6786 - val_loss: -1.7357\n",
      "Epoch 7/20\n",
      "285/285 [==============================] - 3s 9ms/step - loss: -1.6785 - val_loss: -1.7357\n",
      "Epoch 8/20\n",
      "285/285 [==============================] - 3s 9ms/step - loss: -1.6785 - val_loss: -1.7357\n",
      "Epoch 9/20\n",
      "285/285 [==============================] - 3s 9ms/step - loss: -1.6784 - val_loss: -1.7357\n",
      "Epoch 10/20\n",
      "285/285 [==============================] - 3s 9ms/step - loss: -1.6785 - val_loss: -1.7357\n",
      "Epoch 11/20\n",
      "285/285 [==============================] - 3s 9ms/step - loss: -1.6785 - val_loss: -1.7357\n",
      "Epoch 12/20\n",
      "285/285 [==============================] - 3s 9ms/step - loss: -1.6785 - val_loss: -1.7357\n",
      "Epoch 13/20\n",
      "285/285 [==============================] - 2s 9ms/step - loss: -1.6784 - val_loss: -1.7357\n",
      "Epoch 14/20\n",
      "285/285 [==============================] - 3s 9ms/step - loss: -1.6785 - val_loss: -1.7357\n",
      "Epoch 15/20\n",
      "285/285 [==============================] - 3s 9ms/step - loss: -1.6784 - val_loss: -1.7357\n",
      "Epoch 16/20\n",
      "285/285 [==============================] - 3s 9ms/step - loss: -1.6785 - val_loss: -1.7357\n",
      "Epoch 17/20\n",
      "285/285 [==============================] - 3s 9ms/step - loss: -1.6785 - val_loss: -1.7357\n",
      "Epoch 18/20\n",
      "285/285 [==============================] - 3s 9ms/step - loss: -1.6785 - val_loss: -1.7357\n",
      "Epoch 19/20\n",
      "285/285 [==============================] - 3s 9ms/step - loss: -1.6784 - val_loss: -1.7357\n",
      "Epoch 20/20\n",
      "285/285 [==============================] - 3s 10ms/step - loss: -1.6784 - val_loss: -1.7357\n"
     ]
    }
   ],
   "source": [
    "from keras.layers import BatchNormalization, Dense, Input, Dropout\n",
    "from keras.models import Model\n",
    "from keras import backend as K\n",
    "\n",
    "def get_model(input_dim, output_dim, base=1000, multiplier=0.25, p=0.2):\n",
    "    inputs = Input(shape=(input_dim,))\n",
    "    l = BatchNormalization()(inputs)\n",
    "    l = Dropout(p)(l)\n",
    "    n = base\n",
    "    l = Dense(n, activation='relu')(l)\n",
    "    l = BatchNormalization()(l)\n",
    "    l = Dropout(p)(l)\n",
    "    n = int(n * multiplier)\n",
    "    l = Dense(n, activation='relu')(l)\n",
    "    l = BatchNormalization()(l)\n",
    "    l = Dropout(p)(l)\n",
    "    n = int(n * multiplier)\n",
    "    l = Dense(n, activation='relu')(l)\n",
    "    outputs = Dense(output_dim, activation='softmax')(l)\n",
    "    model = Model(inputs=inputs, outputs=outputs)\n",
    "    model.compile(optimizer='Nadam', loss=odds_loss)\n",
    "    return model\n",
    "\n",
    "from keras.callbacks import EarlyStopping, ModelCheckpoint\n",
    "\n",
    "model = get_model(2, 2, 1000, 0.9, 0.7)\n",
    "history = model.fit(train_x, train_y, \n",
    "                    validation_data = (test_x, test_y),\n",
    "                    epochs = 20, \n",
    "                    batch_size = 5, \n",
    "                    callbacks = [EarlyStopping(patience=25),\n",
    "                                 ModelCheckpoint('odds_loss.hdf5',\n",
    "                                                 save_best_only=True)]\n",
    "                   )"
   ]
  },
  {
   "cell_type": "code",
   "execution_count": 17,
   "metadata": {},
   "outputs": [
    {
     "name": "stdout",
     "output_type": "stream",
     "text": [
      "285/285 [==============================] - 0s 386us/step\n",
      "95/95 [==============================] - 0s 357us/step\n",
      "Training Loss : -1.6784561378914014\n",
      "Validation Loss : -1.7356841175179734\n"
     ]
    }
   ],
   "source": [
    "print('Training Loss : {}\\nValidation Loss : {}'.format(model.evaluate(train_x, train_y), \n",
    "                                                        model.evaluate(test_x, test_y)))"
   ]
  },
  {
   "cell_type": "code",
   "execution_count": 22,
   "metadata": {},
   "outputs": [
    {
     "ename": "AttributeError",
     "evalue": "'Model' object has no attribute 'predict_classes'",
     "output_type": "error",
     "traceback": [
      "\u001b[0;31m---------------------------------------------------------------------------\u001b[0m",
      "\u001b[0;31mAttributeError\u001b[0m                            Traceback (most recent call last)",
      "\u001b[0;32m<ipython-input-22-5bbbbf8bcb93>\u001b[0m in \u001b[0;36m<module>\u001b[0;34m\u001b[0m\n\u001b[0;32m----> 1\u001b[0;31m \u001b[0mprint\u001b[0m\u001b[0;34m(\u001b[0m\u001b[0mmodel\u001b[0m\u001b[0;34m.\u001b[0m\u001b[0mpredict_classes\u001b[0m\u001b[0;34m(\u001b[0m\u001b[0mtest_x\u001b[0m\u001b[0;34m)\u001b[0m\u001b[0;34m)\u001b[0m\u001b[0;34m\u001b[0m\u001b[0m\n\u001b[0m\u001b[1;32m      2\u001b[0m \u001b[0mprint\u001b[0m\u001b[0;34m(\u001b[0m\u001b[0mtest_y\u001b[0m\u001b[0;34m)\u001b[0m\u001b[0;34m\u001b[0m\u001b[0m\n",
      "\u001b[0;31mAttributeError\u001b[0m: 'Model' object has no attribute 'predict_classes'"
     ]
    }
   ],
   "source": [
    "print(model.predict_classes(test_x))\n",
    "print(test_y)"
   ]
  }
 ],
 "metadata": {
  "kernelspec": {
   "display_name": "Documentos",
   "language": "python",
   "name": "documentos"
  },
  "language_info": {
   "codemirror_mode": {
    "name": "ipython",
    "version": 3
   },
   "file_extension": ".py",
   "mimetype": "text/x-python",
   "name": "python",
   "nbconvert_exporter": "python",
   "pygments_lexer": "ipython3",
   "version": "3.5.2"
  }
 },
 "nbformat": 4,
 "nbformat_minor": 2
}
